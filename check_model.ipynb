{
 "cells": [
  {
   "cell_type": "code",
   "execution_count": 5,
   "id": "d20e6a55",
   "metadata": {},
   "outputs": [
    {
     "ename": "ModuleNotFoundError",
     "evalue": "No module named 'fly_dataset'",
     "output_type": "error",
     "traceback": [
      "\u001b[0;31m---------------------------------------------------------------------------\u001b[0m",
      "\u001b[0;31mModuleNotFoundError\u001b[0m                       Traceback (most recent call last)",
      "Cell \u001b[0;32mIn[5], line 14\u001b[0m\n\u001b[1;32m     12\u001b[0m \u001b[38;5;28;01mfrom\u001b[39;00m\u001b[38;5;250m \u001b[39m\u001b[38;5;21;01msklearn\u001b[39;00m\u001b[38;5;21;01m.\u001b[39;00m\u001b[38;5;21;01mmetrics\u001b[39;00m\u001b[38;5;250m \u001b[39m\u001b[38;5;28;01mimport\u001b[39;00m confusion_matrix, ConfusionMatrixDisplay\n\u001b[1;32m     13\u001b[0m \u001b[38;5;28;01mfrom\u001b[39;00m\u001b[38;5;250m \u001b[39m\u001b[38;5;21;01mtorchvision\u001b[39;00m\u001b[38;5;21;01m.\u001b[39;00m\u001b[38;5;21;01mtransforms\u001b[39;00m\u001b[38;5;250m \u001b[39m\u001b[38;5;28;01mimport\u001b[39;00m v2\n\u001b[0;32m---> 14\u001b[0m \u001b[38;5;28;01mfrom\u001b[39;00m\u001b[38;5;250m \u001b[39m\u001b[38;5;21;01mfly_dataset\u001b[39;00m\u001b[38;5;21;01m.\u001b[39;00m\u001b[38;5;21;01mpy\u001b[39;00m\u001b[38;5;250m \u001b[39m\u001b[38;5;28;01mimport\u001b[39;00m FLYDataset\n\u001b[1;32m     15\u001b[0m \u001b[38;5;28;01mfrom\u001b[39;00m\u001b[38;5;250m \u001b[39m\u001b[38;5;21;01mfly_cnn\u001b[39;00m\u001b[38;5;250m \u001b[39m\u001b[38;5;28;01mimport\u001b[39;00m CNN_Fly\n",
      "\u001b[0;31mModuleNotFoundError\u001b[0m: No module named 'fly_dataset'"
     ]
    }
   ],
   "source": [
    "import torch\n",
    "import numpy as np\n",
    "import torch.nn as nn\n",
    "from torchvision.io import read_image\n",
    "import matplotlib.pyplot as plt\n",
    "from torch.utils.data import Dataset, DataLoader\n",
    "import matplotlib.image as mpimg\n",
    "import os\n",
    "import cv2\n",
    "from tqdm import tqdm\n",
    "from functools import partial\n",
    "from sklearn.metrics import confusion_matrix, ConfusionMatrixDisplay\n",
    "from torchvision.transforms import v2\n",
    "from fly_dataset.py import FLYDataset\n",
    "from fly_cnn import CNN_Fly"
   ]
  },
  {
   "cell_type": "code",
   "execution_count": 2,
   "id": "dbeb4c99",
   "metadata": {},
   "outputs": [],
   "source": [
    "# Visualize\n",
    "def visualize_predictions(model, dataset, device=\"cuda\", num_samples=5):\n",
    "    model.eval()\n",
    "    fig, axes = plt.subplots(1, num_samples, figsize=(15, 4))\n",
    "    loss_fn = torch.nn.MSELoss()\n",
    "    losses = []\n",
    "\n",
    "    for i in range(num_samples):\n",
    "        img, true_kp = dataset[i]\n",
    "\n",
    "        input_img = img.unsqueeze(0).to(device)  # [1, 1, H, W]\n",
    "\n",
    "        with torch.no_grad():\n",
    "            pred_kp, _, _, _ = model(input_img)\n",
    "            \n",
    "        pred_kp = pred_kp.squeeze(0).cpu()\n",
    "        true_kp = true_kp.cpu()\n",
    "        # Compute MSE loss on normalized coordinates\n",
    "        # loss = loss_fn(pred_kp, true_kp).item()\n",
    "        # losses.append(loss)\n",
    "\n",
    "        # Convert normalized to pixel coordinates\n",
    "        true_kp_px = true_kp.clone()\n",
    "        true_kp_px[:, 0] *= dataset.H  # x\n",
    "        true_kp_px[:, 1] *= dataset.W  # y\n",
    "\n",
    "        pred_kp_px = pred_kp.clone()\n",
    "        pred_kp_px[:, 1] *= dataset.W\n",
    "        pred_kp_px[:, 0] *= dataset.H\n",
    "\n",
    "        loss = loss_fn(pred_kp_px, true_kp_px).item()\n",
    "        losses.append(loss)\n",
    "\n",
    "        img_np = img.squeeze(0).numpy()\n",
    "\n",
    "        ax = axes[i]\n",
    "        ax.imshow(img_np, cmap=\"gray\")\n",
    "        ax.scatter(pred_kp_px[:, 1], pred_kp_px[:, 0], c=\"r\", label=\"Pred\", s=10)\n",
    "        ax.scatter(true_kp_px[:, 1], true_kp_px[:, 0], c=\"g\", label=\"GT\", s=10, alpha=0.6)\n",
    "        ax.set_title(f\"Sample {i}\\nMSE: {loss:.4f}\")\n",
    "        ax.axis(\"off\")\n",
    "\n",
    "    plt.tight_layout()\n",
    "    plt.legend()\n",
    "    plt.show()\n",
    "    avg_loss = sum(losses) / len(losses)\n",
    "    print(f\"\\nAverage MSE over {num_samples} samples: {avg_loss:.4f}\")"
   ]
  },
  {
   "cell_type": "code",
   "execution_count": null,
   "id": "a1fd38ae",
   "metadata": {},
   "outputs": [],
   "source": [
    "model = CNN_Fly(input_size=(480, 960), embedding_size=32)\n",
    "train_dataset = FLYDataset(\"/scratch/cv-course2025/group2/data\")\n",
    "test_dataset = FLYDataset(\"/scratch/cv-course2025/group2/data\", mode=\"test\")\n",
    "\n",
    "device = torch.device(\"cuda:0\" if torch.cuda.is_available() else \"cpu\") # Use CPU for debug so you do not use too much GPU time\n",
    "print(f\"Used Device: {device}\")\n",
    "\n",
    "model.load_state_dict(torch.load(\"./fly-test.pt\"))\n",
    "model.to(device)\n",
    "visualize_predictions(model, test_dataset, device=device)"
   ]
  }
 ],
 "metadata": {
  "kernelspec": {
   "display_name": "Python 3 (ipykernel)",
   "language": "python",
   "name": "python3"
  },
  "language_info": {
   "codemirror_mode": {
    "name": "ipython",
    "version": 3
   },
   "file_extension": ".py",
   "mimetype": "text/x-python",
   "name": "python",
   "nbconvert_exporter": "python",
   "pygments_lexer": "ipython3",
   "version": "3.9.23"
  }
 },
 "nbformat": 4,
 "nbformat_minor": 5
}
