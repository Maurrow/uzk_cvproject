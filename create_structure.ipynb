{
 "cells": [
  {
   "cell_type": "code",
   "execution_count": 1,
   "id": "59a5d3c6",
   "metadata": {},
   "outputs": [],
   "source": [
    "import os\n",
    "import numpy as np\n",
    "import shutil\n",
    "import pickle\n",
    "from pathlib import Path\n",
    "import re"
   ]
  },
  {
   "cell_type": "code",
   "execution_count": 2,
   "id": "665dc881",
   "metadata": {},
   "outputs": [],
   "source": [
    "source_dir = Path(\"unsorted_data/training\")\n",
    "target_dir = Path(\"data/training\")"
   ]
  },
  {
   "cell_type": "code",
   "execution_count": null,
   "id": "2552825b",
   "metadata": {},
   "outputs": [],
   "source": [
    "for cam_id in range(7):\n",
    "    (target_dir / f\"cam{cam_id}\" / \"images\").mkdir(parents=True, exist_ok=True)\n",
    "    (target_dir / f\"cam{cam_id}\" / \"annotations\").mkdir(parents=True, exist_ok=True)"
   ]
  },
  {
   "cell_type": "code",
   "execution_count": null,
   "id": "1a7c8122",
   "metadata": {},
   "outputs": [],
   "source": [
    "keypoints_by_cam = {i: [] for i in range(7)}\n",
    "\n",
    "for folder in sorted(source_dir.glob(\"aDN_*_*\")):\n",
    "    if not folder.is_dir():\n",
    "        continue\n",
    "\n",
    "    match = re.match(r\"aDN_(\\d+)_(\\d+)\", folder.name)\n",
    "    if not match:\n",
    "        print(f\"Überspringe ungültigen Ordnernamen: {folder.name}\")\n",
    "        continue\n",
    "\n",
    "    folder = os.path.join(folder, \"images\")\n",
    "    if not folder.exists():\n",
    "        continue\n",
    "\n",
    "    fly_id = int(match.group(1))\n",
    "    zip_id = match.group(2)\n",
    "\n",
    "    ann_file = folder / \"df3d\" / \"df3d_result.pkl\"\n",
    "    if not ann_file.exists():\n",
    "        print(f\"Keine Annotation gefunden in: {folder}\")\n",
    "        continue\n",
    "\n",
    "    with open(ann_file, \"rb\") as f:\n",
    "        data = pickle.load(f)\n",
    "\n",
    "    points2d = data[\"points2d\"]\n",
    "\n",
    "    for img_path in sorted(image_dir.glob(\"camera_*_img_*.jpg\")):\n",
    "        match_img = re.match(r\"camera_(\\d+)_img_(\\d+).jpg\", img_path.name)\n",
    "        if not match_img:\n",
    "            continue\n",
    "\n",
    "        cam_id = int(match_img.group(1))\n",
    "        frame_id = int(match_img.group(2))\n",
    "\n",
    "        new_name = f\"fly{fly_id}_zip{zip_id}_{frame_id:06d}.jpg\"\n",
    "        new_path = target_base / f\"cam{cam_id}\" / \"images\" / new_name\n",
    "        shutil.copy(img_path, new_path)\n",
    "\n",
    "        try:\n",
    "            kp = points2d[cam_id, frame_id, :, :]\n",
    "            keypoints_by_cam[cam_id].append(kp)\n",
    "        except IndexError:\n",
    "            print(f\"Keine Keypoints für cam {cam_id}, frame {frame_id}\")\n",
    "\n",
    "for cam_id, kplist in keypoints_by_cam.items():\n",
    "    if kplist:\n",
    "        arr = np.stack(kplist, axis=0)\n",
    "        out_path = target_base / f\"cam{cam_id}\" / \"annotations\" / \"annotations.npz\"\n",
    "        np.savez_compressed(out_path, points2d=arr)"
   ]
  }
 ],
 "metadata": {
  "kernelspec": {
   "display_name": "df3d",
   "language": "python",
   "name": "python3"
  },
  "language_info": {
   "codemirror_mode": {
    "name": "ipython",
    "version": 3
   },
   "file_extension": ".py",
   "mimetype": "text/x-python",
   "name": "python",
   "nbconvert_exporter": "python",
   "pygments_lexer": "ipython3",
   "version": "3.13.4"
  }
 },
 "nbformat": 4,
 "nbformat_minor": 5
}
